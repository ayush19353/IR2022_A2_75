{
  "nbformat": 4,
  "nbformat_minor": 0,
  "metadata": {
    "colab": {
      "name": "IR_ASSIGNMENT2_Q2.ipynb",
      "provenance": [],
      "collapsed_sections": []
    },
    "kernelspec": {
      "name": "python3",
      "display_name": "Python 3"
    },
    "language_info": {
      "name": "python"
    }
  },
  "cells": [
    {
      "cell_type": "code",
      "source": [
        "import matplotlib.pyplot as plt"
      ],
      "metadata": {
        "id": "jgHN_ULUOLv9"
      },
      "execution_count": 14,
      "outputs": []
    },
    {
      "cell_type": "code",
      "source": [
        "from google.colab import drive\n",
        "drive.mount('/content/drive')"
      ],
      "metadata": {
        "colab": {
          "base_uri": "https://localhost:8080/"
        },
        "id": "TuILHQ_qcFEe",
        "outputId": "f2fb0b18-1d62-41ae-8fed-65b70db1bd4c"
      },
      "execution_count": 15,
      "outputs": [
        {
          "output_type": "stream",
          "name": "stdout",
          "text": [
            "Drive already mounted at /content/drive; to attempt to forcibly remount, call drive.mount(\"/content/drive\", force_remount=True).\n"
          ]
        }
      ]
    },
    {
      "cell_type": "code",
      "source": [
        "f = open(\"/content/drive/MyDrive/Assignment2_IR/IR-assignment-2-data.txt\", 'r')"
      ],
      "metadata": {
        "id": "RyJI1AOYOLd_"
      },
      "execution_count": 16,
      "outputs": []
    },
    {
      "cell_type": "code",
      "source": [
        ""
      ],
      "metadata": {
        "id": "oDMj96aVLaPS"
      },
      "execution_count": 16,
      "outputs": []
    },
    {
      "cell_type": "code",
      "source": [
        "import matplotlib.pyplot as plt"
      ],
      "metadata": {
        "id": "qcxrfj44Fvaf"
      },
      "execution_count": 17,
      "outputs": []
    },
    {
      "cell_type": "code",
      "execution_count": 17,
      "metadata": {
        "id": "W9t3KwE9Eo3k"
      },
      "outputs": [],
      "source": [
        ""
      ]
    },
    {
      "cell_type": "code",
      "source": [
        " \n",
        "values= []\n",
        "r_score=[]\n",
        "j=0\n",
        "#1=0\n",
        "t=0\n",
        "Data_values={}\n",
        "kk=0\n",
        "for i in f.readlines():\n",
        "    if i.split(\" \")[1].split(\":\")[1]=='4': # only qid-4\n",
        "        #print(\"gg\")\n",
        "        Data_values[kk]=i\n",
        "        kk=kk+1\n",
        "        r_score.append(i.split(\" \")[0]) # the relevance score values of every qid- 4\n",
        "        ans= i.split(\" \")[76].split(\":\")[1]# sum of tf-idf\n",
        "        ans=float(ans)\n",
        "        if i.split(\" \")[0]>'0':\n",
        "            values.append([1,ans])#values storing the relevance score along with \n",
        "            t=t+1\n",
        "\n",
        "        else:\n",
        "            values.append([0,ans])\n",
        "            \n",
        "            #f1=f1+1\n",
        "        j=j+1\n",
        "print(r_score)        \n",
        "\n",
        "for k in range(0,len(r_score)):\n",
        "  r_score[k]=[str(k),r_score[k]]\n",
        "r_score1=r_score\n",
        "print(j)\n",
        "print(r_score)\n",
        "print(values)"
      ],
      "metadata": {
        "colab": {
          "base_uri": "https://localhost:8080/"
        },
        "id": "-FMBigvYNcSN",
        "outputId": "9c94f123-ca11-4d69-d50a-a0e004b883c4"
      },
      "execution_count": 18,
      "outputs": [
        {
          "output_type": "stream",
          "name": "stdout",
          "text": [
            "['0', '0', '0', '0', '1', '0', '1', '3', '0', '0', '1', '0', '0', '1', '0', '0', '0', '1', '2', '2', '1', '2', '2', '0', '1', '2', '0', '0', '0', '1', '0', '0', '1', '0', '2', '0', '2', '2', '1', '0', '2', '0', '0', '0', '0', '0', '0', '0', '0', '0', '0', '0', '2', '1', '0', '1', '0', '0', '2', '0', '1', '2', '2', '0', '0', '0', '1', '0', '2', '0', '0', '0', '1', '0', '1', '1', '2', '0', '0', '0', '0', '0', '1', '1', '1', '1', '0', '0', '1', '0', '2', '0', '1', '0', '0', '0', '1', '0', '0', '1', '2', '1', '0']\n",
            "103\n",
            "[['0', '0'], ['1', '0'], ['2', '0'], ['3', '0'], ['4', '1'], ['5', '0'], ['6', '1'], ['7', '3'], ['8', '0'], ['9', '0'], ['10', '1'], ['11', '0'], ['12', '0'], ['13', '1'], ['14', '0'], ['15', '0'], ['16', '0'], ['17', '1'], ['18', '2'], ['19', '2'], ['20', '1'], ['21', '2'], ['22', '2'], ['23', '0'], ['24', '1'], ['25', '2'], ['26', '0'], ['27', '0'], ['28', '0'], ['29', '1'], ['30', '0'], ['31', '0'], ['32', '1'], ['33', '0'], ['34', '2'], ['35', '0'], ['36', '2'], ['37', '2'], ['38', '1'], ['39', '0'], ['40', '2'], ['41', '0'], ['42', '0'], ['43', '0'], ['44', '0'], ['45', '0'], ['46', '0'], ['47', '0'], ['48', '0'], ['49', '0'], ['50', '0'], ['51', '0'], ['52', '2'], ['53', '1'], ['54', '0'], ['55', '1'], ['56', '0'], ['57', '0'], ['58', '2'], ['59', '0'], ['60', '1'], ['61', '2'], ['62', '2'], ['63', '0'], ['64', '0'], ['65', '0'], ['66', '1'], ['67', '0'], ['68', '2'], ['69', '0'], ['70', '0'], ['71', '0'], ['72', '1'], ['73', '0'], ['74', '1'], ['75', '1'], ['76', '2'], ['77', '0'], ['78', '0'], ['79', '0'], ['80', '0'], ['81', '0'], ['82', '1'], ['83', '1'], ['84', '1'], ['85', '1'], ['86', '0'], ['87', '0'], ['88', '1'], ['89', '0'], ['90', '2'], ['91', '0'], ['92', '1'], ['93', '0'], ['94', '0'], ['95', '0'], ['96', '1'], ['97', '0'], ['98', '0'], ['99', '1'], ['100', '2'], ['101', '1'], ['102', '0']]\n",
            "[[0, 90.53171], [0, 538.388954], [0, 88.171761], [0, 144.564444], [1, 142.589323], [0, 463.099129], [1, 103.400313], [1, 411.010633], [0, 972.826451], [0, 142.589323], [1, 84.625987], [0, 91.160998], [0, 180.720002], [1, 237.21632], [0, 22.480108], [0, 84.625987], [0, 14.972391], [1, 42.227139], [1, 81.947653], [1, 157.05992], [1, 84.625987], [1, 143.445062], [1, 166.683125], [0, 70.466293], [1, 121.96152], [1, 69.811973], [0, 74.434086], [0, 186.375414], [0, 79.630746], [1, 176.875026], [0, 19.313312], [0, 187.934366], [1, 94.958714], [0, 121.007996], [1, 89.877389], [0, 85.634253], [1, 217.848266], [1, 156.301965], [1, 200.840161], [0, 201.720933], [1, 192.953467], [0, 212.401296], [0, 169.844071], [0, 148.415271], [0, 148.415271], [0, 91.717534], [0, 143.769297], [0, 71.646268], [0, 185.617459], [0, 3.539923], [0, 176.000104], [0, 76.360315], [1, 237.21632], [1, 202.442155], [0, 305.102064], [1, 188.936782], [0, 571.500533], [0, 68.100494], [1, 142.038637], [0, 188.129935], [1, 439.396463], [1, 161.455583], [1, 161.15638], [0, 98.418404], [0, 43.297629], [0, 226.444023], [1, 77.167163], [0, 612.893205], [1, 121.814843], [0, 95.257458], [0, 18.133337], [0, 95.257458], [1, 198.480212], [0, 316.319283], [1, 81.140806], [1, 85.805962], [1, 108.548081], [0, 75.987188], [0, 84.625987], [0, 177.168378], [0, 200.840161], [0, 3.539923], [1, 140.479685], [1, 84.625987], [1, 292.184568], [1, 180.24324], [0, 14.972391], [0, 84.625987], [1, 98.148911], [0, 130.655061], [1, 311.705149], [0, 73.279603], [1, 81.140806], [0, 142.9683], [0, 15.773388], [0, 161.455583], [1, 18.133337], [0, 22.419515], [0, 70.460443], [1, 270.13233], [1, 296.023694], [1, 528.520116], [0, 84.625987]]\n"
          ]
        }
      ]
    },
    {
      "cell_type": "markdown",
      "source": [
        " Make a file rearranging the query-url pairs in order of max DCG. State how many such\n",
        "files could be made."
      ],
      "metadata": {
        "id": "2f3jcg3Ho167"
      }
    },
    {
      "cell_type": "code",
      "source": [
        ""
      ],
      "metadata": {
        "id": "XXwYhnG1o4oT"
      },
      "execution_count": 18,
      "outputs": []
    },
    {
      "cell_type": "code",
      "source": [
        "r_score1 = sorted(r_score1, key=lambda x: x[1], reverse=True) # sorted relevacne score "
      ],
      "metadata": {
        "id": "EvlYHcIvLeti"
      },
      "execution_count": 19,
      "outputs": []
    },
    {
      "cell_type": "code",
      "source": [
        "r_score1"
      ],
      "metadata": {
        "colab": {
          "base_uri": "https://localhost:8080/"
        },
        "id": "CHhev8MrYXjF",
        "outputId": "2d44c9eb-08cd-4c80-d3bd-d92f0bfcfd72"
      },
      "execution_count": 20,
      "outputs": [
        {
          "output_type": "execute_result",
          "data": {
            "text/plain": [
              "[['7', '3'],\n",
              " ['18', '2'],\n",
              " ['19', '2'],\n",
              " ['21', '2'],\n",
              " ['22', '2'],\n",
              " ['25', '2'],\n",
              " ['34', '2'],\n",
              " ['36', '2'],\n",
              " ['37', '2'],\n",
              " ['40', '2'],\n",
              " ['52', '2'],\n",
              " ['58', '2'],\n",
              " ['61', '2'],\n",
              " ['62', '2'],\n",
              " ['68', '2'],\n",
              " ['76', '2'],\n",
              " ['90', '2'],\n",
              " ['100', '2'],\n",
              " ['4', '1'],\n",
              " ['6', '1'],\n",
              " ['10', '1'],\n",
              " ['13', '1'],\n",
              " ['17', '1'],\n",
              " ['20', '1'],\n",
              " ['24', '1'],\n",
              " ['29', '1'],\n",
              " ['32', '1'],\n",
              " ['38', '1'],\n",
              " ['53', '1'],\n",
              " ['55', '1'],\n",
              " ['60', '1'],\n",
              " ['66', '1'],\n",
              " ['72', '1'],\n",
              " ['74', '1'],\n",
              " ['75', '1'],\n",
              " ['82', '1'],\n",
              " ['83', '1'],\n",
              " ['84', '1'],\n",
              " ['85', '1'],\n",
              " ['88', '1'],\n",
              " ['92', '1'],\n",
              " ['96', '1'],\n",
              " ['99', '1'],\n",
              " ['101', '1'],\n",
              " ['0', '0'],\n",
              " ['1', '0'],\n",
              " ['2', '0'],\n",
              " ['3', '0'],\n",
              " ['5', '0'],\n",
              " ['8', '0'],\n",
              " ['9', '0'],\n",
              " ['11', '0'],\n",
              " ['12', '0'],\n",
              " ['14', '0'],\n",
              " ['15', '0'],\n",
              " ['16', '0'],\n",
              " ['23', '0'],\n",
              " ['26', '0'],\n",
              " ['27', '0'],\n",
              " ['28', '0'],\n",
              " ['30', '0'],\n",
              " ['31', '0'],\n",
              " ['33', '0'],\n",
              " ['35', '0'],\n",
              " ['39', '0'],\n",
              " ['41', '0'],\n",
              " ['42', '0'],\n",
              " ['43', '0'],\n",
              " ['44', '0'],\n",
              " ['45', '0'],\n",
              " ['46', '0'],\n",
              " ['47', '0'],\n",
              " ['48', '0'],\n",
              " ['49', '0'],\n",
              " ['50', '0'],\n",
              " ['51', '0'],\n",
              " ['54', '0'],\n",
              " ['56', '0'],\n",
              " ['57', '0'],\n",
              " ['59', '0'],\n",
              " ['63', '0'],\n",
              " ['64', '0'],\n",
              " ['65', '0'],\n",
              " ['67', '0'],\n",
              " ['69', '0'],\n",
              " ['70', '0'],\n",
              " ['71', '0'],\n",
              " ['73', '0'],\n",
              " ['77', '0'],\n",
              " ['78', '0'],\n",
              " ['79', '0'],\n",
              " ['80', '0'],\n",
              " ['81', '0'],\n",
              " ['86', '0'],\n",
              " ['87', '0'],\n",
              " ['89', '0'],\n",
              " ['91', '0'],\n",
              " ['93', '0'],\n",
              " ['94', '0'],\n",
              " ['95', '0'],\n",
              " ['97', '0'],\n",
              " ['98', '0'],\n",
              " ['102', '0']]"
            ]
          },
          "metadata": {},
          "execution_count": 20
        }
      ]
    },
    {
      "cell_type": "code",
      "source": [
        "f = open(\"/content/drive/MyDrive/Assignment2_IR/IR-assignment-2-data.txt\", 'r')\n",
        "output_File=open(\"output_File_rel_sorted.txt\",\"w\")\n",
        "total_doc_count=0 \n",
        "for kb in r_score1: \n",
        "  output_File.writelines(Data_values[(int)(kb[0])])\n",
        "  total_doc_count=total_doc_count+1 \n",
        "print(total_doc_count)\n",
        "\n",
        "f = open(\"/content/drive/MyDrive/Assignment2_IR/IR-assignment-2-data.txt\", 'r')\n",
        "output_File=open(\"output_File.txt\",\"w\")\n",
        "count=0 \n",
        "for i in f.readlines():\n",
        "\n",
        "    if count in Data_values.keys():\n",
        "        output_File.writelines(i)\n",
        "    else: \n",
        "      break \n",
        "    count=count+1\n"
      ],
      "metadata": {
        "colab": {
          "base_uri": "https://localhost:8080/"
        },
        "id": "FI_SJdNzYY9Z",
        "outputId": "d6d6208f-0f36-460b-e051-b3cbb07160b1"
      },
      "execution_count": 21,
      "outputs": [
        {
          "output_type": "stream",
          "name": "stdout",
          "text": [
            "103\n"
          ]
        }
      ]
    },
    {
      "cell_type": "code",
      "source": [
        "import math"
      ],
      "metadata": {
        "id": "hC_Mu056ae7s"
      },
      "execution_count": 22,
      "outputs": []
    },
    {
      "cell_type": "markdown",
      "source": [
        "Compute nDCG\n",
        "(a) At 50\n",
        "(b) For the whole dataset"
      ],
      "metadata": {
        "id": "uKVbMjfwpPRg"
      }
    },
    {
      "cell_type": "code",
      "source": [
        "print(\"For whole set\")\n",
        "relevance1=[] # nDCG score for whole document\n",
        "relevance1_sorted=[]\n",
        "values_doc=[0]*4\n",
        "val_0=0\n",
        "val_1=0\n",
        "val_2=0\n",
        "val_3=0\n",
        "i=0\n",
        "while(i<len(r_score)):# calcualting number of relevance score documents\n",
        "    relevance1.append(r_score[i][1])\n",
        "    relevance1_sorted.append(r_score1[i][1])\n",
        "    if(r_score[i][1]=='0'):\n",
        "        values_doc[0]=values_doc[0]+1\n",
        "        val_0=val_0+1\n",
        "    if(r_score[i][1]=='1'):\n",
        "        values_doc[1]=values_doc[1]+1\n",
        "        val_1=val_1+1\n",
        "    if(r_score[i][1]=='2'):\n",
        "        values_doc[2]=values_doc[2]+1\n",
        "        val_2=val_2+1\n",
        "    if(r_score[i][1]=='3'):\n",
        "        values_doc[3]=values_doc[3]+1\n",
        "        val_3=val_3+1\n",
        "    i=i+1\n",
        "\n",
        "DCG_Score= (float)(relevance1[0])\n",
        "#print(DCG_Score)\n",
        "for i in range(1,len(relevance1)):# calculating dcg score of the non sorted relevance score\n",
        "    az=math.log((i+1),2)\n",
        "    az1= (relevance1[i])\n",
        "    DCG_Score=((float)(az1)/az)+DCG_Score\n",
        "print(\"DCG score for non sorted relevacne score\",DCG_Score)\n",
        "D1=float(DCG_Score) # DCG score of non sorted relevance score\n",
        "DCG_Score=(float)(relevance1_sorted[0])\n",
        "for i in range(1,len(relevance1_sorted)):\n",
        "    az=math.log((i+1),2)\n",
        "    az1= relevance1_sorted[i]\n",
        "    DCG_Score=((float)(az1)/(az))+DCG_Score\n",
        "print(\"DCG score for sorted relevance score\",DCG_Score)\n",
        "D2=float(DCG_Score) #DCG score of sorted relevance score\n",
        "total_files=math.factorial(val_3)*math.factorial(val_2)*math.factorial(val_1)*math.factorial(val_0)\n",
        "Final_DCG=D1/D2 # nDCG\n",
        "print(\"nDCG for the whole doc\",Final_DCG)\n",
        "print(values_doc)\n",
        "\n",
        "# using ohter DCG caluclating method\n",
        "DCG_Score= 0\n",
        "#print(DCG_Score)\n",
        "for i in range(1,len(relevance1)):# calculating dcg score of the non sorted relevance score\n",
        "    az=math.log((i+1),2)\n",
        "    az1= relevance1[i-1]\n",
        "    DCG_Score=DCG_Score+(math.pow(2,(float)(az1)) - 1)/az\n",
        "print(\"DCG score for non sorted relevacne score -other method\",DCG_Score)\n",
        "D1=float(DCG_Score) # DCG score of non sorted relevance score\n",
        "DCG_Score=0\n",
        "for i in range(1,len(relevance1_sorted)):\n",
        "    az=math.log((i+1),2)\n",
        "    az1= relevance1_sorted[i-1]\n",
        "    DCG_Score=DCG_Score+(math.pow(2,(float)(az1)) - 1)/az\n",
        "print(\"DCG score for sorted relevance score- other method\",DCG_Score)\n",
        "D2=float(DCG_Score) #DCG score of sorted relevance score\n",
        "total_files=math.factorial(val_3)*math.factorial(val_2)*math.factorial(val_1)*math.factorial(val_0)\n",
        "Final_DCG=D1/D2 # nDCG\n",
        "print(\"nDCG for the whole doc other method\",Final_DCG)\n",
        "print(values_doc)\n"
      ],
      "metadata": {
        "colab": {
          "base_uri": "https://localhost:8080/"
        },
        "id": "RZPr96FMY8NR",
        "outputId": "0449adce-ae05-4878-a637-d88f01bd0035"
      },
      "execution_count": 23,
      "outputs": [
        {
          "output_type": "stream",
          "name": "stdout",
          "text": [
            "For whole set\n",
            "DCG score for non sorted relevacne score 12.550247459532576\n",
            "DCG score for sorted relevance score 20.989750804831445\n",
            "nDCG for the whole doc 0.5979226516897831\n",
            "[59, 26, 17, 1]\n",
            "DCG score for non sorted relevacne score -other method 16.768935581665193\n",
            "DCG score for sorted relevance score- other method 28.98846753873482\n",
            "nDCG for the whole doc other method 0.5784691984582591\n",
            "[59, 26, 17, 1]\n"
          ]
        }
      ]
    },
    {
      "cell_type": "code",
      "source": [
        "print(\"FOR 50 documents\")\n",
        "relevance1=[] # nDCG score for 50 documents\n",
        "relevance1_sorted=[]\n",
        "values_doc=[0]*4\n",
        "val_0=0\n",
        "val_1=0\n",
        "val_2=0\n",
        "val_3=0\n",
        "i=0\n",
        "while(i<len(r_score)):# calcualting number of relevance score documents\n",
        "    relevance1.append(r_score[i][1])\n",
        "    relevance1_sorted.append(r_score1[i][1])\n",
        "    if(r_score[i][1]=='0'):\n",
        "        values_doc[0]=values_doc[0]+1\n",
        "        val_0=val_0+1\n",
        "    if(r_score[i][1]=='1'):\n",
        "        values_doc[1]=values_doc[1]+1\n",
        "        val_1=val_1+1\n",
        "    if(r_score[i][1]=='2'):\n",
        "        values_doc[2]=values_doc[2]+1\n",
        "        val_2=val_2+1\n",
        "    if(r_score[i][1]=='3'):\n",
        "        values_doc[3]=values_doc[3]+1\n",
        "        val_3=val_3+1\n",
        "    i=i+1\n",
        "\n",
        "DCG_Score= (float)(relevance1[0])\n",
        "#print(DCG_Score)\n",
        "for i in range(1,51):# calculating dcg score of the non sorted relevance score\n",
        "    az=math.log((i+1),2)\n",
        "    az1= (relevance1[i])\n",
        "    DCG_Score=((float)(az1)/az)+DCG_Score\n",
        "print(\"DCG score for non sorted relevacne score\",DCG_Score)\n",
        "D1=float(DCG_Score) # DCG score of non sorted relevance score\n",
        "DCG_Score=(float)(relevance1_sorted[0])\n",
        "for i in range(1,51):\n",
        "    az=math.log((i+1),2)\n",
        "    az1= relevance1_sorted[i]\n",
        "    DCG_Score=((float)(az1)/(az))+DCG_Score\n",
        "print(\"DCG score for sorted relevance score\",DCG_Score)\n",
        "D2=float(DCG_Score) #DCG score of sorted relevance score\n",
        "total_files=math.factorial(val_3)*math.factorial(val_2)*math.factorial(val_1)*math.factorial(val_0)\n",
        "Final_DCG=D1/D2 # nDCG\n",
        "print(\"nDCG for the whole doc\",Final_DCG)\n",
        "print(values_doc)\n",
        "\n",
        "# using ohter DCG caluclating method\n",
        "DCG_Score= 0\n",
        "#print(DCG_Score)\n",
        "for i in range(1,51):# calculating dcg score of the non sorted relevance score\n",
        "    az=math.log((i+1),2)\n",
        "    az1= relevance1[i-1]\n",
        "    DCG_Score=DCG_Score+(math.pow(2,(float)(az1)) - 1)/az\n",
        "print(\"DCG score for non sorted relevacne score -other method\",DCG_Score)\n",
        "D1=float(DCG_Score) # DCG score of non sorted relevance score\n",
        "DCG_Score=0\n",
        "for i in range(1,51):\n",
        "    az=math.log((i+1),2)\n",
        "    az1= relevance1_sorted[i-1]\n",
        "    DCG_Score=DCG_Score+(math.pow(2,(float)(az1)) - 1)/az\n",
        "print(\"DCG score for sorted relevance score- other method\",DCG_Score)\n",
        "D2=float(DCG_Score) #DCG score of sorted relevance score\n",
        "total_files=math.factorial(val_3)*math.factorial(val_2)*math.factorial(val_1)*math.factorial(val_0)\n",
        "Final_DCG=D1/D2 # nDCG\n",
        "print(\"nDCG for the whole doc other method\",Final_DCG)\n",
        "print(values_doc)\n"
      ],
      "metadata": {
        "colab": {
          "base_uri": "https://localhost:8080/"
        },
        "id": "9C13wUSj9ju-",
        "outputId": "9f52e3fb-161f-4aa9-dff2-09e6481bcc85"
      },
      "execution_count": 24,
      "outputs": [
        {
          "output_type": "stream",
          "name": "stdout",
          "text": [
            "FOR 50 documents\n",
            "DCG score for non sorted relevacne score 7.39058096925802\n",
            "DCG score for sorted relevance score 20.989750804831445\n",
            "nDCG for the whole doc 0.3521042740324887\n",
            "[59, 26, 17, 1]\n",
            "DCG score for non sorted relevacne score -other method 10.323516383590077\n",
            "DCG score for sorted relevance score- other method 28.98846753873482\n",
            "nDCG for the whole doc other method 0.35612494416255847\n",
            "[59, 26, 17, 1]\n"
          ]
        }
      ]
    },
    {
      "cell_type": "code",
      "source": [
        ""
      ],
      "metadata": {
        "id": "ydKGHirVBvDG"
      },
      "execution_count": 24,
      "outputs": []
    },
    {
      "cell_type": "code",
      "source": [
        "\n",
        "def cal(c1,c2):\n",
        "  return c1/c2"
      ],
      "metadata": {
        "id": "MzjPa3uHfixY"
      },
      "execution_count": 25,
      "outputs": []
    },
    {
      "cell_type": "code",
      "source": [
        "values = sorted(values,key=lambda x: x[1],reverse=True)\n",
        "print(values) \n",
        "\n",
        "precision_val = []\n",
        "recall_val = []\n",
        "c_score=1\n",
        "va=0\n",
        "\n",
        "for m in values:# calculating the precision and recall and then plotting the graphs\n",
        "    precision_val.append(cal(va,c_score))\n",
        "    c_score=c_score+1\n",
        "    recall_val.append(cal(va,t))\n",
        "    if m[0]==1:\n",
        "        va=va+1\n",
        "   \n",
        "plt.ylabel('Recall')\n",
        "plt.xlabel('Precision')\n",
        "plt.title('Precision Recall')\n",
        "plt.plot(recall_val,precision_val)\n",
        "plt.show()"
      ],
      "metadata": {
        "colab": {
          "base_uri": "https://localhost:8080/",
          "height": 333
        },
        "id": "Se_rHN11a_oX",
        "outputId": "25eea22c-d0b4-4d9b-fcca-b8a0ce70f6df"
      },
      "execution_count": 26,
      "outputs": [
        {
          "output_type": "stream",
          "name": "stdout",
          "text": [
            "[[0, 972.826451], [0, 612.893205], [0, 571.500533], [0, 538.388954], [1, 528.520116], [0, 463.099129], [1, 439.396463], [1, 411.010633], [0, 316.319283], [1, 311.705149], [0, 305.102064], [1, 296.023694], [1, 292.184568], [1, 270.13233], [1, 237.21632], [1, 237.21632], [0, 226.444023], [1, 217.848266], [0, 212.401296], [1, 202.442155], [0, 201.720933], [1, 200.840161], [0, 200.840161], [1, 198.480212], [1, 192.953467], [1, 188.936782], [0, 188.129935], [0, 187.934366], [0, 186.375414], [0, 185.617459], [0, 180.720002], [1, 180.24324], [0, 177.168378], [1, 176.875026], [0, 176.000104], [0, 169.844071], [1, 166.683125], [1, 161.455583], [0, 161.455583], [1, 161.15638], [1, 157.05992], [1, 156.301965], [0, 148.415271], [0, 148.415271], [0, 144.564444], [0, 143.769297], [1, 143.445062], [0, 142.9683], [1, 142.589323], [0, 142.589323], [1, 142.038637], [1, 140.479685], [0, 130.655061], [1, 121.96152], [1, 121.814843], [0, 121.007996], [1, 108.548081], [1, 103.400313], [0, 98.418404], [1, 98.148911], [0, 95.257458], [0, 95.257458], [1, 94.958714], [0, 91.717534], [0, 91.160998], [0, 90.53171], [1, 89.877389], [0, 88.171761], [1, 85.805962], [0, 85.634253], [1, 84.625987], [0, 84.625987], [1, 84.625987], [0, 84.625987], [1, 84.625987], [0, 84.625987], [0, 84.625987], [1, 81.947653], [1, 81.140806], [1, 81.140806], [0, 79.630746], [1, 77.167163], [0, 76.360315], [0, 75.987188], [0, 74.434086], [0, 73.279603], [0, 71.646268], [0, 70.466293], [0, 70.460443], [1, 69.811973], [0, 68.100494], [0, 43.297629], [1, 42.227139], [0, 22.480108], [0, 22.419515], [0, 19.313312], [0, 18.133337], [1, 18.133337], [0, 15.773388], [0, 14.972391], [0, 14.972391], [0, 3.539923], [0, 3.539923]]\n"
          ]
        },
        {
          "output_type": "display_data",
          "data": {
            "text/plain": [
              "<Figure size 432x288 with 1 Axes>"
            ],
            "image/png": "[encoded data removed]"
          },
          "metadata": {
            "needs_background": "light"
          }
        }
      ]
    },
    {
      "cell_type": "code",
      "source": [
        ""
      ],
      "metadata": {
        "id": "Kjd5Inehexks"
      },
      "execution_count": 26,
      "outputs": []
    }
  ]
}